{
 "cells": [
  {
   "cell_type": "code",
   "execution_count": 1,
   "metadata": {},
   "outputs": [],
   "source": [
    "import pandas as pd"
   ]
  },
  {
   "cell_type": "code",
   "execution_count": 2,
   "metadata": {},
   "outputs": [],
   "source": [
    "df = pd.read_csv('Social_Net_class.csv')"
   ]
  },
  {
   "cell_type": "code",
   "execution_count": 3,
   "metadata": {},
   "outputs": [],
   "source": [
    "X = df.iloc[:,[2,3]].values"
   ]
  },
  {
   "cell_type": "code",
   "execution_count": 4,
   "metadata": {},
   "outputs": [],
   "source": [
    "Y = df.iloc[:,-1].values"
   ]
  },
  {
   "cell_type": "code",
   "execution_count": 5,
   "metadata": {},
   "outputs": [],
   "source": [
    "from sklearn.cross_validation import train_test_split"
   ]
  },
  {
   "cell_type": "code",
   "execution_count": 6,
   "metadata": {},
   "outputs": [],
   "source": [
    "X_train, X_test, Y_train, Y_test = train_test_split(X,Y,test_size=0.3)"
   ]
  },
  {
   "cell_type": "code",
   "execution_count": 7,
   "metadata": {},
   "outputs": [],
   "source": [
    "from sklearn.preprocessing import StandardScaler"
   ]
  },
  {
   "cell_type": "code",
   "execution_count": 8,
   "metadata": {},
   "outputs": [],
   "source": [
    "SS = StandardScaler()"
   ]
  },
  {
   "cell_type": "code",
   "execution_count": 9,
   "metadata": {},
   "outputs": [
    {
     "name": "stderr",
     "output_type": "stream",
     "text": [
      "C:\\Users\\Vivek Nikam\\Anaconda3\\lib\\site-packages\\sklearn\\utils\\validation.py:475: DataConversionWarning: Data with input dtype int64 was converted to float64 by StandardScaler.\n",
      "  warnings.warn(msg, DataConversionWarning)\n"
     ]
    }
   ],
   "source": [
    "X_train = SS.fit_transform(X_train)\n",
    "X_test = SS.transform(X_test)"
   ]
  },
  {
   "cell_type": "code",
   "execution_count": 10,
   "metadata": {},
   "outputs": [],
   "source": [
    "from sklearn.neighbors import KNeighborsClassifier"
   ]
  },
  {
   "cell_type": "code",
   "execution_count": 11,
   "metadata": {},
   "outputs": [],
   "source": [
    "KNN = KNeighborsClassifier(n_neighbors=5)"
   ]
  },
  {
   "cell_type": "code",
   "execution_count": 12,
   "metadata": {},
   "outputs": [
    {
     "data": {
      "text/plain": [
       "KNeighborsClassifier(algorithm='auto', leaf_size=30, metric='minkowski',\n",
       "           metric_params=None, n_jobs=1, n_neighbors=5, p=2,\n",
       "           weights='uniform')"
      ]
     },
     "execution_count": 12,
     "metadata": {},
     "output_type": "execute_result"
    }
   ],
   "source": [
    "KNN.fit(X_train,Y_train)"
   ]
  },
  {
   "cell_type": "code",
   "execution_count": 13,
   "metadata": {},
   "outputs": [],
   "source": [
    "Y_predict = KNN.predict(X_test)"
   ]
  },
  {
   "cell_type": "code",
   "execution_count": 14,
   "metadata": {},
   "outputs": [
    {
     "data": {
      "text/plain": [
       "0.8833333333333333"
      ]
     },
     "execution_count": 14,
     "metadata": {},
     "output_type": "execute_result"
    }
   ],
   "source": [
    "KNN.score(X_test,Y_test)"
   ]
  },
  {
   "cell_type": "code",
   "execution_count": 15,
   "metadata": {},
   "outputs": [],
   "source": [
    "from sklearn.svm import SVC"
   ]
  },
  {
   "cell_type": "code",
   "execution_count": 16,
   "metadata": {},
   "outputs": [],
   "source": [
    "SVM = SVC(kernel='linear')"
   ]
  },
  {
   "cell_type": "code",
   "execution_count": 17,
   "metadata": {},
   "outputs": [
    {
     "data": {
      "text/plain": [
       "SVC(C=1.0, cache_size=200, class_weight=None, coef0=0.0,\n",
       "  decision_function_shape='ovr', degree=3, gamma='auto', kernel='linear',\n",
       "  max_iter=-1, probability=False, random_state=None, shrinking=True,\n",
       "  tol=0.001, verbose=False)"
      ]
     },
     "execution_count": 17,
     "metadata": {},
     "output_type": "execute_result"
    }
   ],
   "source": [
    "SVM.fit(X_train,Y_train)"
   ]
  },
  {
   "cell_type": "code",
   "execution_count": 18,
   "metadata": {},
   "outputs": [],
   "source": [
    "Y_predict = SVM.predict(X_test)"
   ]
  },
  {
   "cell_type": "code",
   "execution_count": 20,
   "metadata": {},
   "outputs": [],
   "source": [
    "from sklearn.metrics import confusion_matrix"
   ]
  },
  {
   "cell_type": "code",
   "execution_count": 21,
   "metadata": {},
   "outputs": [],
   "source": [
    "cm = confusion_matrix(Y_test,Y_predict)"
   ]
  },
  {
   "cell_type": "code",
   "execution_count": 22,
   "metadata": {},
   "outputs": [
    {
     "data": {
      "text/plain": [
       "array([[70,  3],\n",
       "       [16, 31]], dtype=int64)"
      ]
     },
     "execution_count": 22,
     "metadata": {},
     "output_type": "execute_result"
    }
   ],
   "source": [
    "cm"
   ]
  },
  {
   "cell_type": "code",
   "execution_count": 23,
   "metadata": {},
   "outputs": [
    {
     "data": {
      "text/plain": [
       "0.8416666666666667"
      ]
     },
     "execution_count": 23,
     "metadata": {},
     "output_type": "execute_result"
    }
   ],
   "source": [
    "SVM.score(X_test,Y_test)"
   ]
  },
  {
   "cell_type": "code",
   "execution_count": 24,
   "metadata": {},
   "outputs": [],
   "source": [
    "from sklearn.naive_bayes import GaussianNB"
   ]
  },
  {
   "cell_type": "code",
   "execution_count": 25,
   "metadata": {},
   "outputs": [],
   "source": [
    "NB = GaussianNB()"
   ]
  },
  {
   "cell_type": "code",
   "execution_count": 26,
   "metadata": {},
   "outputs": [
    {
     "data": {
      "text/plain": [
       "GaussianNB(priors=None)"
      ]
     },
     "execution_count": 26,
     "metadata": {},
     "output_type": "execute_result"
    }
   ],
   "source": [
    "NB.fit(X_train,Y_train)"
   ]
  },
  {
   "cell_type": "code",
   "execution_count": 27,
   "metadata": {},
   "outputs": [],
   "source": [
    "Y_predict = NB.predict(X_test)"
   ]
  },
  {
   "cell_type": "code",
   "execution_count": 28,
   "metadata": {},
   "outputs": [
    {
     "data": {
      "text/plain": [
       "0.8833333333333333"
      ]
     },
     "execution_count": 28,
     "metadata": {},
     "output_type": "execute_result"
    }
   ],
   "source": [
    "NB.score(X_test,Y_test)"
   ]
  },
  {
   "cell_type": "code",
   "execution_count": 34,
   "metadata": {},
   "outputs": [
    {
     "data": {
      "text/plain": [
       "array([ 19000,  20000,  43000,  57000,  76000,  58000,  84000, 150000,\n",
       "        33000,  65000,  80000,  52000,  86000,  18000,  82000,  80000,\n",
       "        25000,  26000,  28000,  29000,  22000,  49000,  41000,  22000,\n",
       "        23000,  20000,  28000,  30000,  43000,  18000,  74000, 137000,\n",
       "        16000,  44000,  90000,  27000,  28000,  49000,  72000,  31000,\n",
       "        17000,  51000, 108000,  15000,  84000,  20000,  79000,  54000,\n",
       "       135000,  89000,  32000,  44000,  83000,  23000,  58000,  55000,\n",
       "        48000,  79000,  18000, 117000,  20000,  87000,  66000, 120000,\n",
       "        83000,  58000,  19000,  82000,  63000,  68000,  80000,  27000,\n",
       "        23000, 113000,  18000, 112000,  52000,  27000,  87000,  17000,\n",
       "        80000,  42000,  49000,  88000,  62000, 118000,  55000,  85000,\n",
       "        81000,  50000,  81000, 116000,  15000,  28000,  83000,  44000,\n",
       "        25000, 123000,  73000,  37000,  88000,  59000,  86000, 149000,\n",
       "        21000,  72000,  35000,  89000,  86000,  80000,  71000,  71000,\n",
       "        61000,  55000,  80000,  57000,  75000,  52000,  59000,  59000,\n",
       "        75000,  72000,  75000,  53000,  51000,  61000,  65000,  32000,\n",
       "        17000,  84000,  58000,  31000,  87000,  68000,  55000,  63000,\n",
       "        82000, 107000,  59000,  25000,  85000,  68000,  59000,  89000,\n",
       "        25000,  89000,  96000,  30000,  61000,  74000,  15000,  45000,\n",
       "        76000,  50000,  47000,  15000,  59000,  75000,  30000, 135000,\n",
       "       100000,  90000,  33000,  38000,  69000,  86000,  55000,  71000,\n",
       "       148000,  47000,  88000, 115000, 118000,  43000,  72000,  28000,\n",
       "        47000,  22000,  23000,  34000,  16000,  71000, 117000,  43000,\n",
       "        60000,  66000,  82000,  41000,  72000,  32000,  84000,  26000,\n",
       "        43000,  70000,  89000,  43000,  79000,  36000,  80000,  22000,\n",
       "        39000,  74000, 134000,  71000, 101000,  47000, 130000, 114000,\n",
       "       142000,  22000,  96000, 150000,  42000,  58000,  43000, 108000,\n",
       "        65000,  78000,  96000, 143000,  80000,  91000, 144000, 102000,\n",
       "        60000,  53000, 126000, 133000,  72000,  80000, 147000,  42000,\n",
       "       107000,  86000, 112000,  79000,  57000,  80000,  82000, 143000,\n",
       "       149000,  59000,  88000, 104000,  72000, 146000,  50000, 122000,\n",
       "        52000,  97000,  39000,  52000, 134000, 146000,  44000,  90000,\n",
       "        72000,  57000,  95000, 131000,  77000, 144000, 125000,  72000,\n",
       "        90000, 108000,  75000,  74000, 144000,  61000, 133000,  76000,\n",
       "        42000, 106000,  26000,  74000,  71000,  88000,  38000,  36000,\n",
       "        88000,  61000,  70000,  21000, 141000,  93000,  62000, 138000,\n",
       "        79000,  78000, 134000,  89000,  39000,  77000,  57000,  63000,\n",
       "        73000, 112000,  79000, 117000,  38000,  74000, 137000,  79000,\n",
       "        60000,  54000, 134000, 113000, 125000,  50000,  70000,  96000,\n",
       "        50000, 141000,  79000,  75000, 104000,  55000,  32000,  60000,\n",
       "       138000,  82000,  52000,  30000, 131000,  60000,  72000,  75000,\n",
       "       118000, 107000,  51000, 119000,  65000,  65000,  60000,  54000,\n",
       "       144000,  79000,  55000, 122000, 104000,  75000,  65000,  51000,\n",
       "       105000,  63000,  72000, 108000,  77000,  61000, 113000,  75000,\n",
       "        90000,  57000,  99000,  34000,  70000,  72000,  71000,  54000,\n",
       "       129000,  34000,  50000,  79000, 104000,  29000,  47000,  88000,\n",
       "        71000,  26000,  46000,  83000,  73000, 130000,  80000,  32000,\n",
       "        74000,  53000,  87000,  23000,  64000,  33000, 139000,  28000,\n",
       "        33000,  60000,  39000,  71000,  34000,  35000,  33000,  23000,\n",
       "        45000,  42000,  59000,  41000,  23000,  20000,  33000,  36000],\n",
       "      dtype=int64)"
      ]
     },
     "execution_count": 34,
     "metadata": {},
     "output_type": "execute_result"
    }
   ],
   "source": [
    "X[:,1]"
   ]
  },
  {
   "cell_type": "code",
   "execution_count": 35,
   "metadata": {},
   "outputs": [],
   "source": [
    "import matplotlib.pyplot as plt "
   ]
  },
  {
   "cell_type": "code",
   "execution_count": 36,
   "metadata": {},
   "outputs": [],
   "source": [
    "%matplotlib inline"
   ]
  },
  {
   "cell_type": "code",
   "execution_count": 37,
   "metadata": {},
   "outputs": [
    {
     "data": {
      "text/plain": [
       "<matplotlib.collections.PathCollection at 0x19b78fbe860>"
      ]
     },
     "execution_count": 37,
     "metadata": {},
     "output_type": "execute_result"
    },
    {
     "data": {
      "image/png": "[encoded data removed]",
      "text/plain": [
       "<Figure size 432x288 with 1 Axes>"
      ]
     },
     "metadata": {
      "needs_background": "light"
     },
     "output_type": "display_data"
    }
   ],
   "source": [
    "plt.scatter(X[:,0],X[:,1])"
   ]
  },
  {
   "cell_type": "code",
   "execution_count": 43,
   "metadata": {},
   "outputs": [
    {
     "data": {
      "image/png": "[encoded data removed]",
      "text/plain": [
       "<Figure size 432x288 with 1 Axes>"
      ]
     },
     "metadata": {
      "needs_background": "light"
     },
     "output_type": "display_data"
    }
   ],
   "source": [
    "plt.scatter(X[Y==0,0],X[Y==0,1],c='red')\n",
    "plt.scatter(X[Y==1,0],X[Y==1,1],c='green')\n",
    "plt.show()"
   ]
  },
  {
   "cell_type": "code",
   "execution_count": null,
   "metadata": {},
   "outputs": [],
   "source": []
  }
 ],
 "metadata": {
  "kernelspec": {
   "display_name": "Python 3",
   "language": "python",
   "name": "python3"
  },
  "language_info": {
   "codemirror_mode": {
    "name": "ipython",
    "version": 3
   },
   "file_extension": ".py",
   "mimetype": "text/x-python",
   "name": "python",
   "nbconvert_exporter": "python",
   "pygments_lexer": "ipython3",
   "version": "3.7.0"
  }
 },
 "nbformat": 4,
 "nbformat_minor": 2
}
